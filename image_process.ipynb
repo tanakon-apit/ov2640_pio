{
 "cells": [
  {
   "cell_type": "code",
   "execution_count": 10,
   "metadata": {},
   "outputs": [],
   "source": [
    "from PIL import Image\n",
    "from IPython.display import display\n",
    "import numpy as np"
   ]
  },
  {
   "cell_type": "code",
   "execution_count": 11,
   "metadata": {},
   "outputs": [],
   "source": [
    "img_load = Image.open(\"picture/pic16.png\")\n",
    "img = img_load.rotate(180)"
   ]
  },
  {
   "cell_type": "code",
   "execution_count": 12,
   "metadata": {},
   "outputs": [
    {
     "data": {
      "image/png": "[encoded data removed]",
      "text/plain": [
       "<PIL.Image.Image image mode=L size=88x72>"
      ]
     },
     "metadata": {},
     "output_type": "display_data"
    }
   ],
   "source": [
    "display(img)"
   ]
  },
  {
   "cell_type": "code",
   "execution_count": 13,
   "metadata": {},
   "outputs": [],
   "source": [
    "img_array = np.array(img).reshape(88 * 72, 1).astype(np.uint8)"
   ]
  },
  {
   "cell_type": "markdown",
   "metadata": {},
   "source": [
    "GreyScale to Binary Image"
   ]
  },
  {
   "cell_type": "code",
   "execution_count": 14,
   "metadata": {},
   "outputs": [],
   "source": [
    "row = 72\n",
    "col = 88\n",
    "for i in range(row):\n",
    "    for j in range(col):\n",
    "        index = (i * col) + j\n",
    "        if img_array[index] < 64:\n",
    "            img_array[index] = 255\n",
    "        else:\n",
    "            img_array[index] = 0"
   ]
  },
  {
   "cell_type": "code",
   "execution_count": 15,
   "metadata": {},
   "outputs": [
    {
     "data": {
      "image/png": "[encoded data removed]",
      "text/plain": [
       "<PIL.Image.Image image mode=L size=88x72>"
      ]
     },
     "metadata": {},
     "output_type": "display_data"
    }
   ],
   "source": [
    "bin_img = Image.fromarray(img_array.reshape(72, 88), 'L')\n",
    "img_array.reshape(88 * 72, 1)\n",
    "display(bin_img)"
   ]
  },
  {
   "cell_type": "markdown",
   "metadata": {},
   "source": [
    "Linear Regression"
   ]
  },
  {
   "cell_type": "code",
   "execution_count": 16,
   "metadata": {},
   "outputs": [
    {
     "name": "stdout",
     "output_type": "stream",
     "text": [
      "-0.08980826742149352 35.35755604192337\n"
     ]
    }
   ],
   "source": [
    "N = 0\n",
    "sum_xy = 0\n",
    "sum_x = 0\n",
    "sum_y = 0\n",
    "sum_x2 = 0\n",
    "\n",
    "h = 0\n",
    "w = 0\n",
    "\n",
    "while True:\n",
    "    if h < row:\n",
    "        index = (h * col) + w\n",
    "        if img_array[index] == 255:\n",
    "            x = h\n",
    "            y = w\n",
    "            N = N + 1\n",
    "            sum_x = sum_x + x\n",
    "            sum_y = sum_y + y\n",
    "            sum_xy = sum_xy + (x * y)\n",
    "            sum_x2 = sum_x2 + (x * x)\n",
    "        w = (w + 1) % col\n",
    "        if w == 0: h = h + 1\n",
    "    else:\n",
    "        break\n",
    "\n",
    "# for h in range(row):\n",
    "#     for w in range(col):\n",
    "#         index = (h * col) + w\n",
    "#         if img_array[index] == 255:\n",
    "#             # x = h - row + 1\n",
    "#             # y = w - col + 1\n",
    "#             x = h\n",
    "#             y = w\n",
    "#             N = N + 1\n",
    "#             sum_x = sum_x + x\n",
    "#             sum_y = sum_y + y\n",
    "#             sum_xy = sum_xy + (x * y)\n",
    "#             sum_x2 = sum_x2 + (x * x)\n",
    "\n",
    "m = ((N * sum_xy) - (sum_x * sum_y)) / ((N * sum_x2) - (sum_x * sum_x))\n",
    "c = (sum_y - (m * sum_x)) / N\n",
    "\n",
    "print(m, c)"
   ]
  },
  {
   "cell_type": "markdown",
   "metadata": {},
   "source": [
    "Varidation"
   ]
  },
  {
   "cell_type": "code",
   "execution_count": 17,
   "metadata": {},
   "outputs": [],
   "source": [
    "fit_array = np.zeros((72 * 88, 1), dtype=np.uint8)"
   ]
  },
  {
   "cell_type": "code",
   "execution_count": 18,
   "metadata": {},
   "outputs": [
    {
     "name": "stdout",
     "output_type": "stream",
     "text": [
      "0 35\n",
      "1 35\n",
      "2 35\n",
      "3 35\n",
      "4 34\n",
      "5 34\n",
      "6 34\n",
      "7 34\n",
      "8 34\n",
      "9 34\n",
      "10 34\n",
      "11 34\n",
      "12 34\n",
      "13 34\n",
      "14 34\n",
      "15 34\n",
      "16 33\n",
      "17 33\n",
      "18 33\n",
      "19 33\n",
      "20 33\n",
      "21 33\n",
      "22 33\n",
      "23 33\n",
      "24 33\n",
      "25 33\n",
      "26 33\n",
      "27 32\n",
      "28 32\n",
      "29 32\n",
      "30 32\n",
      "31 32\n",
      "32 32\n",
      "33 32\n",
      "34 32\n",
      "35 32\n",
      "36 32\n",
      "37 32\n",
      "38 31\n",
      "39 31\n",
      "40 31\n",
      "41 31\n",
      "42 31\n",
      "43 31\n",
      "44 31\n",
      "45 31\n",
      "46 31\n",
      "47 31\n",
      "48 31\n",
      "49 30\n",
      "50 30\n",
      "51 30\n",
      "52 30\n",
      "53 30\n",
      "54 30\n",
      "55 30\n",
      "56 30\n",
      "57 30\n",
      "58 30\n",
      "59 30\n",
      "60 29\n",
      "61 29\n",
      "62 29\n",
      "63 29\n",
      "64 29\n",
      "65 29\n",
      "66 29\n",
      "67 29\n",
      "68 29\n",
      "69 29\n",
      "70 29\n",
      "71 28\n"
     ]
    }
   ],
   "source": [
    "for h in range(row):\n",
    "    # x = h - row + 1\n",
    "    # y = int((m * x) + c)\n",
    "    # print(x, y)\n",
    "    # w = y + col - 1\n",
    "    w = int((m * h) + c)\n",
    "    if 0 <= w <= col-1:\n",
    "        print(h ,w)\n",
    "        index = (h * col) + w\n",
    "        fit_array[index] = 255"
   ]
  },
  {
   "cell_type": "code",
   "execution_count": 19,
   "metadata": {},
   "outputs": [
    {
     "data": {
      "image/png": "[encoded data removed]",
      "text/plain": [
       "<PIL.Image.Image image mode=L size=88x72>"
      ]
     },
     "metadata": {},
     "output_type": "display_data"
    }
   ],
   "source": [
    "img_pred = Image.fromarray(fit_array.reshape(72, 88), 'L')\n",
    "display(img_pred)"
   ]
  },
  {
   "cell_type": "code",
   "execution_count": 20,
   "metadata": {},
   "outputs": [
    {
     "data": {
      "text/plain": [
       "0"
      ]
     },
     "execution_count": 20,
     "metadata": {},
     "output_type": "execute_result"
    }
   ],
   "source": [
    "fit_array.reshape(72, 88)[0][23]"
   ]
  }
 ],
 "metadata": {
  "kernelspec": {
   "display_name": "Python 3",
   "language": "python",
   "name": "python3"
  },
  "language_info": {
   "codemirror_mode": {
    "name": "ipython",
    "version": 3
   },
   "file_extension": ".py",
   "mimetype": "text/x-python",
   "name": "python",
   "nbconvert_exporter": "python",
   "pygments_lexer": "ipython3",
   "version": "3.10.2"
  }
 },
 "nbformat": 4,
 "nbformat_minor": 2
}
